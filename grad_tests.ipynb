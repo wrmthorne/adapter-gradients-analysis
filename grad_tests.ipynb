{
 "cells": [
  {
   "cell_type": "markdown",
   "metadata": {},
   "source": [
    "# Experiments which show how gradients and optimsers work woth adapters"
   ]
  },
  {
   "cell_type": "code",
   "execution_count": 20,
   "metadata": {},
   "outputs": [],
   "source": [
    "import torch\n",
    "import torch.nn as nn\n",
    "from torch.optim import Optimizer\n",
    "\n",
    "from transformers import AutoModelForCausalLM, AutoTokenizer\n",
    "from peft import get_peft_model, LoraConfig, TaskType\n",
    "\n",
    "import numpy as np\n",
    "import matplotlib.pyplot as plt"
   ]
  },
  {
   "cell_type": "code",
   "execution_count": 18,
   "metadata": {},
   "outputs": [],
   "source": [
    "def compare_weights(model1, model2):\n",
    "    for (name1, param1), (_, param2) in zip(model1.named_parameters(), model2.named_parameters()): \n",
    "        weight1 = param1.data\n",
    "        weight2 = param2.data\n",
    "        \n",
    "        if (weight1 is not None and weight2 is not None and torch.equal(weight1, weight2)) or \\\n",
    "            (weight1 is None and weight2 is None):\n",
    "            continue\n",
    "        else:\n",
    "            return True, {\n",
    "                \"name\": name1,\n",
    "                \"model1\": weight1.mean().item() if weight1 is not None else None,\n",
    "                \"model2\": weight2.mean().item() if weight2 is not None else None\n",
    "            }\n",
    "\n",
    "    return False, {}\n",
    "\n",
    "def compare_gradients(model1, model2):    \n",
    "    for (name1, param1), (_, param2) in zip(model1.named_parameters(), model2.named_parameters()):           \n",
    "        grad1 = param1.grad\n",
    "        grad2 = param2.grad\n",
    "        \n",
    "        if (grad1 is not None and grad2 is not None and torch.equal(grad1, grad2)) or \\\n",
    "            (grad1 is None and grad2 is None):\n",
    "            continue\n",
    "        else:\n",
    "            return True, {\n",
    "                \"name\": name1,\n",
    "                \"model1\": grad1.mean().item() if grad1 is not None else None,\n",
    "                \"model2\": grad2.mean().item() if grad2 is not None else None\n",
    "            }\n",
    "        \n",
    "    return False, {}\n",
    "\n",
    "def compare_model_states(model_1, model_2):      \n",
    "    print(\"=== Weight Comparison ===\")\n",
    "    weights_not_same, weight_diffs = compare_weights(model_1, model_2)\n",
    "    \n",
    "    if weights_not_same:\n",
    "        print(\"Mean Weight differences:\")\n",
    "        print(weight_diffs)\n",
    "    \n",
    "    print(\"\\n=== Gradient Comparison ===\")\n",
    "    grads_not_same, grad_diffs = compare_gradients(model_1, model_2)\n",
    "\n",
    "    if grads_not_same:\n",
    "        print(\"Mean Gradient differences:\")\n",
    "        print(grad_diffs)\n"
   ]
  },
  {
   "cell_type": "markdown",
   "metadata": {},
   "source": [
    "## Compare before and after forward pass"
   ]
  },
  {
   "cell_type": "code",
   "execution_count": 22,
   "metadata": {},
   "outputs": [
    {
     "name": "stdout",
     "output_type": "stream",
     "text": [
      "=== Weight Comparison ===\n",
      "\n",
      "=== Gradient Comparison ===\n",
      "Mean Gradient differences:\n",
      "{'name': 'gpt_neox.embed_in.weight', 'model1': None, 'model2': -5.554166135801793e-14}\n"
     ]
    }
   ],
   "source": [
    "model_name = \"EleutherAI/pythia-70m\"\n",
    "model = AutoModelForCausalLM.from_pretrained(model_name)\n",
    "model.train()\n",
    "tokenizer = AutoTokenizer.from_pretrained(model_name)\n",
    "optimizer = torch.optim.Adam(model.parameters(), lr=0.001)\n",
    "\n",
    "# Prepare input\n",
    "text = \"This is a test sentence.\"\n",
    "inputs = tokenizer(text, return_tensors=\"pt\")\n",
    "inputs[\"labels\"] = inputs[\"input_ids\"].clone()\n",
    "\n",
    "model_initial = type(model)(model.config)\n",
    "model_initial.load_state_dict(model.state_dict())\n",
    "\n",
    "outputs = model(**inputs)\n",
    "loss = outputs.loss\n",
    "loss.backward()\n",
    "\n",
    "compare_model_states(model_initial, model)"
   ]
  },
  {
   "cell_type": "markdown",
   "metadata": {},
   "source": [
    "## Compare post-forward to post-step"
   ]
  },
  {
   "cell_type": "code",
   "execution_count": 24,
   "metadata": {},
   "outputs": [
    {
     "name": "stdout",
     "output_type": "stream",
     "text": [
      "=== Weight Comparison ===\n",
      "Mean Weight differences:\n",
      "{'name': 'gpt_neox.embed_in.weight', 'model1': 1.702372173895128e-05, 'model2': 1.7025038687279448e-05}\n",
      "\n",
      "=== Gradient Comparison ===\n",
      "Mean Gradient differences:\n",
      "{'name': 'gpt_neox.embed_in.weight', 'model1': None, 'model2': -5.554166135801793e-14}\n",
      "=== Weight Comparison ===\n",
      "\n",
      "=== Gradient Comparison ===\n"
     ]
    }
   ],
   "source": [
    "model_forward = type(model)(model.config)\n",
    "model_forward.load_state_dict(model.state_dict())\n",
    "\n",
    "optimizer.step()\n",
    "\n",
    "compare_model_states(model_forward, model)"
   ]
  },
  {
   "cell_type": "markdown",
   "metadata": {},
   "source": [
    "For completeness compare after zero-grad"
   ]
  },
  {
   "cell_type": "code",
   "execution_count": 25,
   "metadata": {},
   "outputs": [
    {
     "name": "stdout",
     "output_type": "stream",
     "text": [
      "=== Weight Comparison ===\n",
      "\n",
      "=== Gradient Comparison ===\n"
     ]
    }
   ],
   "source": [
    "model_zero = type(model)(model.config)\n",
    "model_zero.load_state_dict(model.state_dict())\n",
    "\n",
    "optimizer.zero_grad()\n",
    "\n",
    "compare_model_states(model_zero, model)"
   ]
  }
 ],
 "metadata": {
  "kernelspec": {
   "display_name": ".venv",
   "language": "python",
   "name": "python3"
  },
  "language_info": {
   "codemirror_mode": {
    "name": "ipython",
    "version": 3
   },
   "file_extension": ".py",
   "mimetype": "text/x-python",
   "name": "python",
   "nbconvert_exporter": "python",
   "pygments_lexer": "ipython3",
   "version": "3.11.0rc1"
  }
 },
 "nbformat": 4,
 "nbformat_minor": 2
}
